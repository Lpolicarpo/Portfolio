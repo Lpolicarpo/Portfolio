{
 "cells": [
  {
   "cell_type": "markdown",
   "metadata": {},
   "source": [
    "## Regularization techniques\n",
    "\n",
    "The goal of this notebook is to study the effect of applying different regularization techniques in a Polynomial Regression model. The idea is to increase the model complexity by increasing the degree of the polynomial and using Lasso, Ridge and Elastic Net methods to avoid overfitting.\n",
    "\n",
    "For this exercise we will use the California housing dataset (target = 'median_house_value').\n",
    "\n",
    "1- Uploading and cleaning data   \n",
    "2- Designing a simple data pipeline to create dummy variables, change degree of polynomial and normalize  \n",
    "3- Test the different regularization methods using GridSearch  \n",
    "4- Test a more complex model (Random Forest)  \n",
    "5- Conclusion  \n",
    "\n"
   ]
  },
  {
   "cell_type": "code",
   "execution_count": 1,
   "metadata": {},
   "outputs": [],
   "source": [
    "import os\n",
    "import tarfile\n",
    "from six.moves import urllib\n",
    "import pandas as pd\n",
    "import numpy as np\n",
    "\n",
    "from sklearn.model_selection import train_test_split\n",
    "from sklearn.impute import SimpleImputer \n",
    "from sklearn.pipeline import Pipeline\n",
    "from sklearn.preprocessing import StandardScaler, OneHotEncoder, OrdinalEncoder\n",
    "from sklearn.pipeline import Pipeline, make_pipeline\n",
    "from sklearn.compose import ColumnTransformer\n",
    "from sklearn.neighbors import KNeighborsClassifier\n",
    "from sklearn.metrics import mean_squared_error, mean_absolute_error\n",
    "from sklearn.model_selection import cross_val_score\n",
    "from sklearn.model_selection import GridSearchCV\n",
    "from sklearn.ensemble import RandomForestClassifier\n",
    "from sklearn.metrics import precision_recall_curve\n",
    "from sklearn.metrics import confusion_matrix,classification_report\n",
    "from sklearn.model_selection import cross_val_predict\n",
    "from sklearn.feature_selection import SelectKBest, chi2,f_classif, f_regression, mutual_info_classif\n",
    "from sklearn.metrics import precision_recall_curve,roc_curve\n",
    "from sklearn.preprocessing import PolynomialFeatures\n",
    "from sklearn.linear_model import LinearRegression, Lasso,Ridge,ElasticNet\n",
    "from sklearn.ensemble import RandomForestRegressor\n",
    "\n",
    "import time\n",
    "\n",
    "import warnings\n",
    "warnings.filterwarnings(\"ignore\")"
   ]
  },
  {
   "cell_type": "code",
   "execution_count": 2,
   "metadata": {},
   "outputs": [],
   "source": [
    "DOWNLOAD_ROOT = \"https://raw.githubusercontent.com/ageron/handson-ml/master/\"\n",
    "HOUSING_PATH = os.path.join(\"datasets\", \"housing\")\n",
    "HOUSING_URL = DOWNLOAD_ROOT + \"datasets/housing/housing.tgz\"\n",
    "\n",
    "def fetch_housing_data(housing_url=HOUSING_URL, housing_path=HOUSING_PATH):\n",
    "    if not os.path.isdir(housing_path):\n",
    "        os.makedirs(housing_path)\n",
    "    tgz_path = os.path.join(housing_path, \"housing.tgz\")\n",
    "    urllib.request.urlretrieve(housing_url, tgz_path)\n",
    "    housing_tgz = tarfile.open(tgz_path)\n",
    "    housing_tgz.extractall(path=housing_path)\n",
    "    housing_tgz.close()\n",
    "    \n",
    "fetch_housing_data()\n",
    "\n",
    "def load_housing_data(housing_path=HOUSING_PATH):\n",
    "    csv_path = os.path.join(housing_path, \"housing.csv\")\n",
    "    return pd.read_csv(csv_path)\n",
    "\n",
    "housing = load_housing_data()"
   ]
  },
  {
   "cell_type": "code",
   "execution_count": 3,
   "metadata": {},
   "outputs": [
    {
     "name": "stdout",
     "output_type": "stream",
     "text": [
      "<class 'pandas.core.frame.DataFrame'>\n",
      "RangeIndex: 20640 entries, 0 to 20639\n",
      "Data columns (total 10 columns):\n",
      "longitude             20640 non-null float64\n",
      "latitude              20640 non-null float64\n",
      "housing_median_age    20640 non-null float64\n",
      "total_rooms           20640 non-null float64\n",
      "total_bedrooms        20433 non-null float64\n",
      "population            20640 non-null float64\n",
      "households            20640 non-null float64\n",
      "median_income         20640 non-null float64\n",
      "median_house_value    20640 non-null float64\n",
      "ocean_proximity       20640 non-null object\n",
      "dtypes: float64(9), object(1)\n",
      "memory usage: 1.6+ MB\n"
     ]
    }
   ],
   "source": [
    "housing.info()"
   ]
  },
  {
   "cell_type": "markdown",
   "metadata": {},
   "source": [
    "### Fix the categories in the categorical variable"
   ]
  },
  {
   "cell_type": "code",
   "execution_count": 4,
   "metadata": {},
   "outputs": [],
   "source": [
    "d = {'<1H OCEAN':'LESS_1H_OCEAN', 'INLAND':'INLAND', 'ISLAND':'ISLAND', 'NEAR BAY':'NEAR_BAY', 'NEAR OCEAN':'NEAR_OCEAN'}\n",
    "housing['ocean_proximity'] = housing['ocean_proximity'].map(lambda s: d[s])"
   ]
  },
  {
   "cell_type": "markdown",
   "metadata": {},
   "source": [
    "### Add 2 more features"
   ]
  },
  {
   "cell_type": "code",
   "execution_count": 5,
   "metadata": {},
   "outputs": [],
   "source": [
    "housing[\"rooms_per_household\"] = housing[\"total_rooms\"]/housing[\"households\"]\n",
    "housing[\"population_per_household\"]=housing[\"population\"]/housing[\"households\"]"
   ]
  },
  {
   "cell_type": "markdown",
   "metadata": {},
   "source": [
    "### Fix missing data"
   ]
  },
  {
   "cell_type": "code",
   "execution_count": 6,
   "metadata": {},
   "outputs": [],
   "source": [
    "median = housing[\"total_bedrooms\"].median()\n",
    "housing[\"total_bedrooms\"].fillna(median, inplace=True) "
   ]
  },
  {
   "cell_type": "markdown",
   "metadata": {},
   "source": [
    "### Create dummy variables based on the categorical variable"
   ]
  },
  {
   "cell_type": "code",
   "execution_count": 7,
   "metadata": {},
   "outputs": [],
   "source": [
    "one_hot = pd.get_dummies(housing['ocean_proximity'])\n",
    "housing = housing.drop('ocean_proximity', axis=1)\n",
    "housing = housing.join(one_hot)"
   ]
  },
  {
   "cell_type": "markdown",
   "metadata": {},
   "source": [
    "### Check the data"
   ]
  },
  {
   "cell_type": "code",
   "execution_count": 11,
   "metadata": {},
   "outputs": [
    {
     "name": "stdout",
     "output_type": "stream",
     "text": [
      "<class 'pandas.core.frame.DataFrame'>\n",
      "RangeIndex: 20640 entries, 0 to 20639\n",
      "Data columns (total 16 columns):\n",
      "longitude                   20640 non-null float64\n",
      "latitude                    20640 non-null float64\n",
      "housing_median_age          20640 non-null float64\n",
      "total_rooms                 20640 non-null float64\n",
      "total_bedrooms              20640 non-null float64\n",
      "population                  20640 non-null float64\n",
      "households                  20640 non-null float64\n",
      "median_income               20640 non-null float64\n",
      "median_house_value          20640 non-null float64\n",
      "rooms_per_household         20640 non-null float64\n",
      "population_per_household    20640 non-null float64\n",
      "INLAND                      20640 non-null uint8\n",
      "ISLAND                      20640 non-null uint8\n",
      "LESS_1H_OCEAN               20640 non-null uint8\n",
      "NEAR_BAY                    20640 non-null uint8\n",
      "NEAR_OCEAN                  20640 non-null uint8\n",
      "dtypes: float64(11), uint8(5)\n",
      "memory usage: 1.8 MB\n"
     ]
    }
   ],
   "source": [
    "housing.info()"
   ]
  },
  {
   "cell_type": "markdown",
   "metadata": {},
   "source": [
    "### 1.1 Partition into train and test\n",
    "\n",
    "Use `train_test_split` from `sklearn.model_selection` to partition the dataset into 70% for training and 30% for testing.\n",
    "\n",
    "You can use the 70% for training set as both training and validation by using cross-validation.\n"
   ]
  },
  {
   "cell_type": "code",
   "execution_count": 9,
   "metadata": {},
   "outputs": [],
   "source": [
    "from sklearn.model_selection import train_test_split\n",
    "target_col = 'median_house_value'\n",
    "\n",
    "\n",
    "X = housing.drop([target_col], axis = 1)\n",
    "y = housing[target_col]\n",
    "\n",
    "X_train, X_test, y_train, y_test = train_test_split (X, y, test_size = 0.2, random_state = 123)"
   ]
  },
  {
   "cell_type": "code",
   "execution_count": 14,
   "metadata": {},
   "outputs": [
    {
     "name": "stdout",
     "output_type": "stream",
     "text": [
      "<class 'pandas.core.frame.DataFrame'>\n",
      "Int64Index: 4128 entries, 19121 to 18254\n",
      "Data columns (total 15 columns):\n",
      "longitude                   4128 non-null float64\n",
      "latitude                    4128 non-null float64\n",
      "housing_median_age          4128 non-null float64\n",
      "total_rooms                 4128 non-null float64\n",
      "total_bedrooms              4128 non-null float64\n",
      "population                  4128 non-null float64\n",
      "households                  4128 non-null float64\n",
      "median_income               4128 non-null float64\n",
      "rooms_per_household         4128 non-null float64\n",
      "population_per_household    4128 non-null float64\n",
      "INLAND                      4128 non-null uint8\n",
      "ISLAND                      4128 non-null uint8\n",
      "LESS_1H_OCEAN               4128 non-null uint8\n",
      "NEAR_BAY                    4128 non-null uint8\n",
      "NEAR_OCEAN                  4128 non-null uint8\n",
      "dtypes: float64(10), uint8(5)\n",
      "memory usage: 374.9 KB\n"
     ]
    }
   ],
   "source": [
    "X_test.info()"
   ]
  },
  {
   "cell_type": "markdown",
   "metadata": {},
   "source": [
    "### 1.2 Polynomial transformations"
   ]
  },
  {
   "cell_type": "code",
   "execution_count": 16,
   "metadata": {},
   "outputs": [
    {
     "data": {
      "text/plain": [
       "206404.1664244186"
      ]
     },
     "execution_count": 16,
     "metadata": {},
     "output_type": "execute_result"
    }
   ],
   "source": [
    "y_test.mean()"
   ]
  },
  {
   "cell_type": "markdown",
   "metadata": {},
   "source": [
    "Use PolynomialFeatures from sklearn.preprocessing"
   ]
  },
  {
   "cell_type": "code",
   "execution_count": 20,
   "metadata": {},
   "outputs": [],
   "source": [
    "from sklearn.preprocessing import PolynomialFeatures\n",
    "\n",
    "poly_features = PolynomialFeatures(degree=2, include_bias=True)\n",
    "X_tr = poly_features.fit_transform(X_train)\n",
    "\n",
    "features = X_train.columns"
   ]
  },
  {
   "cell_type": "code",
   "execution_count": 21,
   "metadata": {},
   "outputs": [
    {
     "name": "stdout",
     "output_type": "stream",
     "text": [
      "Original number of features: 15\n",
      "Final number of features: 136\n"
     ]
    }
   ],
   "source": [
    "print(\"Original number of features: \"+str(len(features)))\n",
    "print(\"Final number of features: \"+str(X_tr.shape[1]))"
   ]
  },
  {
   "cell_type": "markdown",
   "metadata": {},
   "source": [
    "### 1.3 Scaling features"
   ]
  },
  {
   "cell_type": "markdown",
   "metadata": {},
   "source": [
    "Similarly, use `StandardScaler` from `sklearn.preprocessing` to normalize the training and testing data, using the training data"
   ]
  },
  {
   "cell_type": "code",
   "execution_count": 22,
   "metadata": {},
   "outputs": [],
   "source": [
    "from sklearn.preprocessing import StandardScaler\n",
    "\n",
    "scaler = StandardScaler()\n",
    "X_tr_st = scaler.fit_transform(X_tr)"
   ]
  },
  {
   "cell_type": "markdown",
   "metadata": {},
   "source": [
    "#### Comparing models\n",
    "\n",
    "Use this function to display your cross val scores, or you may use your own custom function.\n",
    "\n",
    "**Either way it is important to display your results as you train new models.**"
   ]
  },
  {
   "cell_type": "code",
   "execution_count": 24,
   "metadata": {},
   "outputs": [],
   "source": [
    "def display_scores(scores):\n",
    "    print(\"Scores:\", scores)\n",
    "    print(\"Mean:\", scores.mean())\n",
    "    print(\"Standard Deviation:\", scores.std())"
   ]
  },
  {
   "cell_type": "markdown",
   "metadata": {},
   "source": [
    "### 1.4 Data Pipeline "
   ]
  },
  {
   "cell_type": "code",
   "execution_count": 34,
   "metadata": {},
   "outputs": [],
   "source": [
    "# Data Pipeline for the polynomial transformer and standard scaler processes\n",
    "\n",
    "prep_pipeline = Pipeline([\n",
    "        ('polynomial_transformer', PolynomialFeatures(degree=2, include_bias=False)),\n",
    "        ('scaler', StandardScaler()),\n",
    "    ])"
   ]
  },
  {
   "cell_type": "markdown",
   "metadata": {},
   "source": [
    "### 2.1 Linear regression on original features (no transformations) --- benchmark\n",
    "\n",
    "Train a simple linear regression model using `cross_val_score` with no regularization or feature transformations. This model will serve as your benchmark."
   ]
  },
  {
   "cell_type": "markdown",
   "metadata": {},
   "source": [
    "#### 2.1.1 Linear regression SciKit"
   ]
  },
  {
   "cell_type": "code",
   "execution_count": 31,
   "metadata": {},
   "outputs": [
    {
     "name": "stdout",
     "output_type": "stream",
     "text": [
      "Scores: [-4.56142091e+09 -4.72836524e+09 -4.82082692e+09 -4.78076718e+09\n",
      " -4.81602773e+09]\n",
      "Mean: -4741481595.184526\n",
      "Standard Deviation: 95906258.0276629\n"
     ]
    }
   ],
   "source": [
    "X_train_mod1 =  scaler.fit_transform(X_train)\n",
    "\n",
    "reg = LinearRegression()\n",
    "\n",
    "display_scores(cross_val_score(reg, X_train_mod1, y_train, cv=5, scoring = 'neg_mean_squared_error'))"
   ]
  },
  {
   "cell_type": "code",
   "execution_count": 32,
   "metadata": {},
   "outputs": [
    {
     "data": {
      "text/plain": [
       "dict_keys(['explained_variance', 'r2', 'neg_median_absolute_error', 'neg_mean_absolute_error', 'neg_mean_squared_error', 'neg_mean_squared_log_error', 'accuracy', 'roc_auc', 'balanced_accuracy', 'average_precision', 'neg_log_loss', 'brier_score_loss', 'adjusted_rand_score', 'homogeneity_score', 'completeness_score', 'v_measure_score', 'mutual_info_score', 'adjusted_mutual_info_score', 'normalized_mutual_info_score', 'fowlkes_mallows_score', 'precision', 'precision_macro', 'precision_micro', 'precision_samples', 'precision_weighted', 'recall', 'recall_macro', 'recall_micro', 'recall_samples', 'recall_weighted', 'f1', 'f1_macro', 'f1_micro', 'f1_samples', 'f1_weighted'])"
      ]
     },
     "execution_count": 32,
     "metadata": {},
     "output_type": "execute_result"
    }
   ],
   "source": [
    "import sklearn\n",
    "sklearn.metrics.SCORERS.keys()"
   ]
  },
  {
   "cell_type": "markdown",
   "metadata": {},
   "source": [
    "### 2.2 Linear regression  (on transformed features: polynomial transformation + scaling)"
   ]
  },
  {
   "cell_type": "markdown",
   "metadata": {},
   "source": [
    "Now do as in **2.1** but with the original and transformed features (136 features)"
   ]
  },
  {
   "cell_type": "code",
   "execution_count": 36,
   "metadata": {},
   "outputs": [
    {
     "name": "stdout",
     "output_type": "stream",
     "text": [
      "Scores: [-3.47620692e+29 -3.85891621e+09 -4.76765843e+24]\n",
      "Mean: -1.1587515324761284e+29\n",
      "Standard Deviation: 1.638688420327861e+29\n"
     ]
    }
   ],
   "source": [
    "\n",
    "X_train_mod2 = prep_pipeline.fit_transform(X_train)\n",
    "\n",
    "display_scores(cross_val_score(reg, X_train_mod2, y_train, cv=3, scoring = 'neg_mean_squared_error'))"
   ]
  },
  {
   "cell_type": "markdown",
   "metadata": {},
   "source": [
    "If the error on the cross-validation is too high it is because the model is over-fitting. Regularization is needed."
   ]
  },
  {
   "cell_type": "markdown",
   "metadata": {},
   "source": [
    "### 2.3 Ridge regression\n",
    "\n",
    "Using the same transformed dataset from **2.2**, train another linear model but this time apply L2 regularization. Run the model through grid search to find the optimal regularization hyperparams. Print the results. "
   ]
  },
  {
   "cell_type": "code",
   "execution_count": 18,
   "metadata": {},
   "outputs": [
    {
     "data": {
      "text/plain": [
       "array([  1,  51, 101, 151, 201, 251, 301, 351, 401, 451, 501, 551, 601,\n",
       "       651])"
      ]
     },
     "execution_count": 18,
     "metadata": {},
     "output_type": "execute_result"
    }
   ],
   "source": [
    "np.arange(1,700,50)"
   ]
  },
  {
   "cell_type": "code",
   "execution_count": 19,
   "metadata": {},
   "outputs": [
    {
     "data": {
      "text/plain": [
       "GridSearchCV(cv=5, error_score=nan,\n",
       "             estimator=Pipeline(memory=None,\n",
       "                                steps=[('preparation',\n",
       "                                        Pipeline(memory=None,\n",
       "                                                 steps=[('polynomial_transformer',\n",
       "                                                         PolynomialFeatures(degree=2,\n",
       "                                                                            include_bias=False,\n",
       "                                                                            interaction_only=False,\n",
       "                                                                            order='C')),\n",
       "                                                        ('scaler',\n",
       "                                                         StandardScaler(copy=True,\n",
       "                                                                        with_mean=True,\n",
       "                                                                        with_std=True))],\n",
       "                                                 verbose=False)),\n",
       "                                       ('Ridge_reg',\n",
       "                                        Ridge(alpha=1.0, copy_X=True,\n",
       "                                              fit_intercept=True, max_iter=None,\n",
       "                                              normalize=False,\n",
       "                                              random_state=None, solver='auto',\n",
       "                                              tol=0.001))],\n",
       "                                verbose=False),\n",
       "             iid='deprecated', n_jobs=None,\n",
       "             param_grid=[{'Ridge_reg__alpha': array([400, 450, 500, 550, 600, 650])}],\n",
       "             pre_dispatch='2*n_jobs', refit=True, return_train_score=True,\n",
       "             scoring='neg_root_mean_squared_error', verbose=0)"
      ]
     },
     "execution_count": 19,
     "metadata": {},
     "output_type": "execute_result"
    }
   ],
   "source": [
    "param_grid = [{'Ridge_reg__alpha': np.arange(400,700,50)}]\n",
    "\n",
    "full_pipeline_predictor = Pipeline([\n",
    "        (\"preparation\", prep_pipeline),\n",
    "        (\"Ridge_reg\", Ridge())\n",
    "    ])\n",
    "\n",
    "ridge_grid_search = GridSearchCV(full_pipeline_predictor, param_grid, cv=5,\n",
    "                           scoring = 'neg_root_mean_squared_error', return_train_score=True)\n",
    "\n",
    "ridge_grid_search.fit(X_train, y_train)"
   ]
  },
  {
   "cell_type": "code",
   "execution_count": 20,
   "metadata": {},
   "outputs": [
    {
     "data": {
      "text/plain": [
       "{'Ridge_reg__alpha': 450}"
      ]
     },
     "execution_count": 20,
     "metadata": {},
     "output_type": "execute_result"
    }
   ],
   "source": [
    "ridge_grid_search.best_params_"
   ]
  },
  {
   "cell_type": "code",
   "execution_count": 21,
   "metadata": {},
   "outputs": [
    {
     "data": {
      "text/plain": [
       "-71361.76121948808"
      ]
     },
     "execution_count": 21,
     "metadata": {},
     "output_type": "execute_result"
    }
   ],
   "source": [
    "ridge_grid_search.best_score_"
   ]
  },
  {
   "cell_type": "code",
   "execution_count": 22,
   "metadata": {},
   "outputs": [
    {
     "name": "stdout",
     "output_type": "stream",
     "text": [
      "Scores: [ -64998.68408651  -65992.66374544  -66223.64387646  -65935.67384834\n",
      " -127585.52904961]\n",
      "Mean: -78147.23892127315\n",
      "Standard Deviation: 24722.690642746456\n"
     ]
    }
   ],
   "source": [
    "display_scores(cross_val_score(ridge_grid_search, X_train, y_train, cv=5, scoring = 'neg_root_mean_squared_error'))"
   ]
  },
  {
   "cell_type": "markdown",
   "metadata": {},
   "source": [
    "### 2.4 Lasso regression\n",
    "\n",
    "Now do the same as in **2.3** but with Lasso"
   ]
  },
  {
   "cell_type": "code",
   "execution_count": 23,
   "metadata": {
    "scrolled": true
   },
   "outputs": [
    {
     "data": {
      "text/plain": [
       "GridSearchCV(cv=5, error_score=nan,\n",
       "             estimator=Pipeline(memory=None,\n",
       "                                steps=[('preparation',\n",
       "                                        Pipeline(memory=None,\n",
       "                                                 steps=[('polynomial_transformer',\n",
       "                                                         PolynomialFeatures(degree=2,\n",
       "                                                                            include_bias=False,\n",
       "                                                                            interaction_only=False,\n",
       "                                                                            order='C')),\n",
       "                                                        ('scaler',\n",
       "                                                         StandardScaler(copy=True,\n",
       "                                                                        with_mean=True,\n",
       "                                                                        with_std=True))],\n",
       "                                                 verbose=False)),\n",
       "                                       ('Lasso_reg',\n",
       "                                        Lasso(alpha=1.0, copy_X=True,\n",
       "                                              fit...\n",
       "                                              normalize=False, positive=False,\n",
       "                                              precompute=False,\n",
       "                                              random_state=None,\n",
       "                                              selection='cyclic', tol=0.0001,\n",
       "                                              warm_start=False))],\n",
       "                                verbose=False),\n",
       "             iid='deprecated', n_jobs=None,\n",
       "             param_grid=[{'Lasso_reg__alpha': array([  1,  51, 101, 151, 201, 251, 301, 351, 401, 451, 501, 551, 601,\n",
       "       651])}],\n",
       "             pre_dispatch='2*n_jobs', refit=True, return_train_score=True,\n",
       "             scoring='neg_root_mean_squared_error', verbose=0)"
      ]
     },
     "execution_count": 23,
     "metadata": {},
     "output_type": "execute_result"
    }
   ],
   "source": [
    "param_grid = [{'Lasso_reg__alpha': np.arange(1,700,50)}]\n",
    "\n",
    "full_pipeline_predictor = Pipeline([\n",
    "        (\"preparation\", prep_pipeline),\n",
    "        (\"Lasso_reg\", Lasso())\n",
    "    ])\n",
    "\n",
    "lasso_grid_search = GridSearchCV(full_pipeline_predictor, param_grid, cv=5, \n",
    "                           scoring = 'neg_root_mean_squared_error', return_train_score=True)\n",
    "\n",
    "lasso_grid_search.fit(X_train, y_train)"
   ]
  },
  {
   "cell_type": "code",
   "execution_count": 24,
   "metadata": {},
   "outputs": [
    {
     "data": {
      "text/plain": [
       "{'Lasso_reg__alpha': 651}"
      ]
     },
     "execution_count": 24,
     "metadata": {},
     "output_type": "execute_result"
    }
   ],
   "source": [
    "lasso_grid_search.best_params_"
   ]
  },
  {
   "cell_type": "code",
   "execution_count": 25,
   "metadata": {},
   "outputs": [
    {
     "data": {
      "text/plain": [
       "-70982.07183120243"
      ]
     },
     "execution_count": 25,
     "metadata": {},
     "output_type": "execute_result"
    }
   ],
   "source": [
    "lasso_grid_search.best_score_"
   ]
  },
  {
   "cell_type": "code",
   "execution_count": 26,
   "metadata": {
    "scrolled": true
   },
   "outputs": [
    {
     "name": "stdout",
     "output_type": "stream",
     "text": [
      "Scores: [  -68457.02039674   -66513.75860289   -66631.24645763   -64207.52886099\n",
      " -4548069.28216259]\n",
      "Mean: -962775.767296169\n",
      "Standard Deviation: 1792647.2647110103\n"
     ]
    }
   ],
   "source": [
    "display_scores(cross_val_score(lasso_grid_search, X_train, y_train, cv=5, scoring = 'neg_root_mean_squared_error'))"
   ]
  },
  {
   "cell_type": "markdown",
   "metadata": {},
   "source": [
    "### 2.5 Elastic Net regression\n",
    "\n",
    "Do the same as in **2.3** and **2.4**, but now with Elastic Net. However, the grid search should be over the parameters alpha and  L1 ratio. Use just 3 values for L1 ratio."
   ]
  },
  {
   "cell_type": "code",
   "execution_count": 27,
   "metadata": {
    "scrolled": true
   },
   "outputs": [
    {
     "data": {
      "text/plain": [
       "GridSearchCV(cv=5, error_score=nan,\n",
       "             estimator=Pipeline(memory=None,\n",
       "                                steps=[('preparation',\n",
       "                                        Pipeline(memory=None,\n",
       "                                                 steps=[('polynomial_transformer',\n",
       "                                                         PolynomialFeatures(degree=2,\n",
       "                                                                            include_bias=False,\n",
       "                                                                            interaction_only=False,\n",
       "                                                                            order='C')),\n",
       "                                                        ('scaler',\n",
       "                                                         StandardScaler(copy=True,\n",
       "                                                                        with_mean=True,\n",
       "                                                                        with_std=True))],\n",
       "                                                 verbose=False)),\n",
       "                                       ('ElasticNet_reg',\n",
       "                                        ElasticNet(alpha=1.0, copy_...\n",
       "                                                   random_state=None,\n",
       "                                                   selection='cyclic',\n",
       "                                                   tol=0.0001,\n",
       "                                                   warm_start=False))],\n",
       "                                verbose=False),\n",
       "             iid='deprecated', n_jobs=None,\n",
       "             param_grid=[{'ElasticNet_reg__l1_ratio': array([0.  , 0.05, 0.1 , 0.15, 0.2 , 0.25, 0.3 , 0.35, 0.4 , 0.45, 0.5 ,\n",
       "       0.55, 0.6 , 0.65, 0.7 , 0.75, 0.8 , 0.85, 0.9 , 0.95])}],\n",
       "             pre_dispatch='2*n_jobs', refit=True, return_train_score=True,\n",
       "             scoring='neg_root_mean_squared_error', verbose=0)"
      ]
     },
     "execution_count": 27,
     "metadata": {},
     "output_type": "execute_result"
    }
   ],
   "source": [
    "param_grid = [{'ElasticNet_reg__l1_ratio': np.arange(0,1,0.05)}]\n",
    "\n",
    "full_pipeline_predictor = Pipeline([\n",
    "        (\"preparation\", prep_pipeline),\n",
    "        (\"ElasticNet_reg\", ElasticNet())\n",
    "    ])\n",
    "\n",
    "ENR_grid_search = GridSearchCV(full_pipeline_predictor, param_grid, cv=5, \n",
    "                           scoring = 'neg_root_mean_squared_error', return_train_score=True)\n",
    "\n",
    "ENR_grid_search.fit(X_train, y_train)"
   ]
  },
  {
   "cell_type": "code",
   "execution_count": 28,
   "metadata": {},
   "outputs": [
    {
     "data": {
      "text/plain": [
       "{'ElasticNet_reg__l1_ratio': 0.9500000000000001}"
      ]
     },
     "execution_count": 28,
     "metadata": {},
     "output_type": "execute_result"
    }
   ],
   "source": [
    "ENR_grid_search.best_params_"
   ]
  },
  {
   "cell_type": "code",
   "execution_count": 29,
   "metadata": {},
   "outputs": [
    {
     "data": {
      "text/plain": [
       "-78647.94449692321"
      ]
     },
     "execution_count": 29,
     "metadata": {},
     "output_type": "execute_result"
    }
   ],
   "source": [
    "ENR_grid_search.best_score_"
   ]
  },
  {
   "cell_type": "code",
   "execution_count": 30,
   "metadata": {},
   "outputs": [
    {
     "name": "stdout",
     "output_type": "stream",
     "text": [
      "Scores: [ -69542.45442077  -69455.82910268  -70804.6225084   -70905.8785971\n",
      " -140238.2967045 ]\n",
      "Mean: -84189.4162666908\n",
      "Standard Deviation: 28031.033364251514\n"
     ]
    }
   ],
   "source": [
    "display_scores(cross_val_score(ENR_grid_search, X_train, y_train, cv=5, scoring = 'neg_root_mean_squared_error'))"
   ]
  },
  {
   "cell_type": "markdown",
   "metadata": {},
   "source": [
    "### 3.1  Expected Results\n",
    "\n",
    "Before you compute the final_rmse on the test data using your best model, pause and reflect:\n",
    "- Does your best model have high variance? \n",
    "- Why was your best performing model better than the others?\n",
    "- What is your expected rmse score on your test data? "
   ]
  },
  {
   "cell_type": "markdown",
   "metadata": {},
   "source": [
    "Out of the four models tested the linear regression with no polynomial transformation performed better (benchmark model).The mean squared error and cross validation standard variation displayed the lowest values, 68.854 and 699 respectively. It is worth noting the very small variance obtained. This suggests that this particular model generalizes very well with a reasonable error ,even though it is a fairly simple one.\n",
    "\n",
    "The polynomial transformation added a lot more complexity to the models to the point that it overfitted given that no regularization was applied. Interestingly the regularization was not able to reduce the variability of the models to the extent it would surpass the performance of our simple benchmark model. Note that Ridge and Lasso regression displayed reasonable square mean error but the cross validation standard deviation. One factor that is important to take into consideration is the immense number of features acquired after the polynomial transformation (from 15 to 135 features), not only exceeded the complexity of the model but also caused converge issues on both Lasso and Elastic Net regression.\n",
    "\n",
    "The expected rmse score for the test data should be close to the value obtained for the cross validation score for the chosen model.\n"
   ]
  },
  {
   "cell_type": "markdown",
   "metadata": {},
   "source": [
    "### 3.2. Evaluating your best model on TESTING data\n",
    "\n",
    "Of the models you created above, choose the best one to test on the test set."
   ]
  },
  {
   "cell_type": "code",
   "execution_count": 31,
   "metadata": {},
   "outputs": [
    {
     "name": "stdout",
     "output_type": "stream",
     "text": [
      "68406.01279745529\n"
     ]
    }
   ],
   "source": [
    "from sklearn.metrics import mean_squared_error\n",
    "\n",
    "X_train_mod1 =  scaler.fit_transform(X_train)\n",
    "X_test_mod1 =  scaler.fit_transform(X_test)\n",
    "\n",
    "reg.fit(X_train_mod1, y_train)\n",
    "\n",
    "y_pred = reg.predict(X_test_mod1) \n",
    "\n",
    "final_mse = mean_squared_error(y_test, y_pred) # swap 'YOUR_PREDICTIONS' with the predictions values your model produces\n",
    "final_rmse = np.sqrt(final_mse)\n",
    "print(final_rmse)"
   ]
  },
  {
   "cell_type": "code",
   "execution_count": 32,
   "metadata": {},
   "outputs": [
    {
     "data": {
      "image/png": "[encoded data removed]",
      "text/plain": [
       "<Figure size 432x288 with 1 Axes>"
      ]
     },
     "metadata": {
      "needs_background": "light"
     },
     "output_type": "display_data"
    }
   ],
   "source": [
    "# Plot the results\n",
    "import matplotlib.pyplot as plt\n",
    "\n",
    "plt.scatter(y_test, y_pred) # swap 'YOUR_PREDICTIONS' with the prediction values your model produces\n",
    "plt.xlim([-200000,800000])\n",
    "plt.ylim([-200000,800000])\n",
    "plt.show()"
   ]
  },
  {
   "cell_type": "markdown",
   "metadata": {},
   "source": [
    "### 4.1 Try a more advanced model"
   ]
  },
  {
   "cell_type": "markdown",
   "metadata": {},
   "source": [
    "### Random Forest model"
   ]
  },
  {
   "cell_type": "code",
   "execution_count": 33,
   "metadata": {},
   "outputs": [
    {
     "data": {
      "text/plain": [
       "GridSearchCV(cv=5, error_score=nan,\n",
       "             estimator=Pipeline(memory=None,\n",
       "                                steps=[('preparation',\n",
       "                                        Pipeline(memory=None,\n",
       "                                                 steps=[('polynomial_transformer',\n",
       "                                                         PolynomialFeatures(degree=2,\n",
       "                                                                            include_bias=False,\n",
       "                                                                            interaction_only=False,\n",
       "                                                                            order='C')),\n",
       "                                                        ('scaler',\n",
       "                                                         StandardScaler(copy=True,\n",
       "                                                                        with_mean=True,\n",
       "                                                                        with_std=True))],\n",
       "                                                 verbose=False)),\n",
       "                                       ('Random_forest_reg',\n",
       "                                        RandomForestRegressor(b...\n",
       "                                                              min_samples_split=2,\n",
       "                                                              min_weight_fraction_leaf=0.0,\n",
       "                                                              n_estimators=100,\n",
       "                                                              n_jobs=None,\n",
       "                                                              oob_score=False,\n",
       "                                                              random_state=42,\n",
       "                                                              verbose=0,\n",
       "                                                              warm_start=False))],\n",
       "                                verbose=False),\n",
       "             iid='deprecated', n_jobs=None,\n",
       "             param_grid=[{'Random_forest_reg__max_depth': array([2, 4, 6, 8])}],\n",
       "             pre_dispatch='2*n_jobs', refit=True, return_train_score=True,\n",
       "             scoring='neg_root_mean_squared_error', verbose=0)"
      ]
     },
     "execution_count": 33,
     "metadata": {},
     "output_type": "execute_result"
    }
   ],
   "source": [
    "\n",
    "param_grid = [{'Random_forest_reg__max_depth': np.arange(2,10,2)}]\n",
    "\n",
    "full_pipeline_predictor = Pipeline([\n",
    "        (\"preparation\", prep_pipeline),\n",
    "        (\"Random_forest_reg\", RandomForestRegressor(random_state=42, n_estimators =100))\n",
    "    ])\n",
    "\n",
    "rfreg_grid_search = GridSearchCV(full_pipeline_predictor, param_grid, cv=5,\n",
    "                           scoring = 'neg_root_mean_squared_error', return_train_score=True)\n",
    "\n",
    "rfreg_grid_search.fit(X_train, y_train)"
   ]
  },
  {
   "cell_type": "code",
   "execution_count": 34,
   "metadata": {},
   "outputs": [
    {
     "data": {
      "text/plain": [
       "{'Random_forest_reg__max_depth': 8}"
      ]
     },
     "execution_count": 34,
     "metadata": {},
     "output_type": "execute_result"
    }
   ],
   "source": [
    "rfreg_grid_search.best_params_"
   ]
  },
  {
   "cell_type": "code",
   "execution_count": 35,
   "metadata": {},
   "outputs": [
    {
     "data": {
      "text/plain": [
       "-55563.15440257113"
      ]
     },
     "execution_count": 35,
     "metadata": {},
     "output_type": "execute_result"
    }
   ],
   "source": [
    "rfreg_grid_search.best_score_"
   ]
  },
  {
   "cell_type": "code",
   "execution_count": 44,
   "metadata": {},
   "outputs": [
    {
     "name": "stdout",
     "output_type": "stream",
     "text": [
      "Scores: [-53467.92382251 -55161.10448251 -55416.68197657 -56705.65705882\n",
      " -57064.40467244]\n",
      "Mean: -55563.15440257113\n",
      "Standard Deviation: 1275.31597541294\n",
      "2277.3952929973602\n"
     ]
    }
   ],
   "source": [
    "start = time.time()\n",
    "display_scores(cross_val_score(rfreg_grid_search, X_train, y_train, cv=5, scoring = 'neg_root_mean_squared_error'))\n",
    "print (time.time()- start)"
   ]
  },
  {
   "cell_type": "code",
   "execution_count": 45,
   "metadata": {},
   "outputs": [
    {
     "name": "stdout",
     "output_type": "stream",
     "text": [
      "Scores: [-53467.14198101 -55164.44995252 -55419.37810121 -56698.33620197\n",
      " -57067.07188905]\n",
      "Mean: -55563.27562515088\n",
      "Standard Deviation: 1274.6223272018574\n",
      "198.57852911949158\n"
     ]
    }
   ],
   "source": [
    "start = time.time()\n",
    "\n",
    "x_train_mod2 = prep_pipeline.fit_transform(X_train)\n",
    "display_scores(cross_val_score(RandomForestRegressor(random_state=42, n_estimators =100,max_depth=  8 ), x_train_mod2, y_train, cv=5, scoring = 'neg_root_mean_squared_error'))\n",
    "\n",
    "print (time.time()- start)"
   ]
  },
  {
   "cell_type": "markdown",
   "metadata": {},
   "source": [
    "The random forest model algorithm consists of many decisions trees. It uses bagging and feature randomness when building each individual tree to try to create an uncorrelated forest of trees whose prediction by committee is more accurate than that of any individual tree. Therefore due to the nature of this algorithm it's expected to perform better than linear models."
   ]
  }
 ],
 "metadata": {
  "kernelspec": {
   "display_name": "Python 3",
   "language": "python",
   "name": "python3"
  },
  "language_info": {
   "codemirror_mode": {
    "name": "ipython",
    "version": 3
   },
   "file_extension": ".py",
   "mimetype": "text/x-python",
   "name": "python",
   "nbconvert_exporter": "python",
   "pygments_lexer": "ipython3",
   "version": "3.7.7"
  },
  "toc-autonumbering": false
 },
 "nbformat": 4,
 "nbformat_minor": 4
}
